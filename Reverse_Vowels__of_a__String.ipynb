{
  "nbformat": 4,
  "nbformat_minor": 0,
  "metadata": {
    "colab": {
      "provenance": [],
      "authorship_tag": "ABX9TyO8rP0BZ76dozHzAw+jzDqr",
      "include_colab_link": true
    },
    "kernelspec": {
      "name": "python3",
      "display_name": "Python 3"
    },
    "language_info": {
      "name": "python"
    }
  },
  "cells": [
    {
      "cell_type": "markdown",
      "metadata": {
        "id": "view-in-github",
        "colab_type": "text"
      },
      "source": [
        "<a href=\"https://colab.research.google.com/github/athulya137/LeetCode-75-coding-qs/blob/main/Reverse_Vowels__of_a__String.ipynb\" target=\"_parent\"><img src=\"https://colab.research.google.com/assets/colab-badge.svg\" alt=\"Open In Colab\"/></a>"
      ]
    },
    {
      "cell_type": "code",
      "execution_count": 1,
      "metadata": {
        "id": "uVq_MtTJeeNX"
      },
      "outputs": [],
      "source": [
        "# Given a string s, reverse only all the vowels in the string and return it.\n",
        "#The vowels are 'a', 'e', 'i', 'o', and 'u', and they can appear in both lower and upper cases, more than once.\n",
        "#Example 1:\n",
        "#Input: s = \"IceCreAm\"\n",
        "#Output: \"AceCreIm\"\n",
        "#Explanation:\n",
        "#The vowels in s are ['I', 'e', 'e', 'A']. On reversing the vowels, s becomes \"AceCreIm\".\n",
        "#Example 2:\n",
        "#Input: s = \"leetcode\"\n",
        "#Output: \"leotcede\"\n",
        "#Constraints:\n",
        "#1 <= s.length <= 3 * 105\n",
        "#s consist of printable ASCII characters."
      ]
    },
    {
      "cell_type": "code",
      "source": [
        "class Solution:\n",
        "  def reverseVowels(self,s:str) -> str:\n",
        "    vowels={'a','e','i','o','u','A','E','I','O','U'}\n",
        "    s=list(s)\n",
        "    left,right=0,len(s)-1\n",
        "    while left < right:\n",
        "      if s[left] not in vowels:\n",
        "        left+=1\n",
        "      elif s[right] not in vowels:\n",
        "        right-=1\n",
        "      else:\n",
        "        #swap\n",
        "        s[left],s[right]=s[right],s[left]\n",
        "        left+=1\n",
        "        right-=1\n",
        "    return ''.join(s) # Convert list back to string\n",
        "\n",
        "# Example\n",
        "solution = Solution()\n",
        "print(solution.reverseVowels(\"IceCreAm\"))\n",
        "print(solution.reverseVowels(\"leetcode\"))\n"
      ],
      "metadata": {
        "colab": {
          "base_uri": "https://localhost:8080/"
        },
        "id": "Cuzp5Z3ih7Cn",
        "outputId": "b4a5cc91-be1b-40d7-c1db-041ca7d977d9"
      },
      "execution_count": 3,
      "outputs": [
        {
          "output_type": "stream",
          "name": "stdout",
          "text": [
            "AceCreIm\n",
            "leotcede\n"
          ]
        }
      ]
    },
    {
      "cell_type": "code",
      "source": [],
      "metadata": {
        "id": "_ql4CO9ii6Y9"
      },
      "execution_count": null,
      "outputs": []
    }
  ]
}