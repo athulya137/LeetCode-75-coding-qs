{
  "nbformat": 4,
  "nbformat_minor": 0,
  "metadata": {
    "colab": {
      "provenance": [],
      "authorship_tag": "ABX9TyO0C8F4627EfqGjmY+yovfn",
      "include_colab_link": true
    },
    "kernelspec": {
      "name": "python3",
      "display_name": "Python 3"
    },
    "language_info": {
      "name": "python"
    }
  },
  "cells": [
    {
      "cell_type": "markdown",
      "metadata": {
        "id": "view-in-github",
        "colab_type": "text"
      },
      "source": [
        "<a href=\"https://colab.research.google.com/github/athulya137/LeetCode-75-coding-qs/blob/main/Kids_With_the_Greatest_Number_of_Candies.ipynb\" target=\"_parent\"><img src=\"https://colab.research.google.com/assets/colab-badge.svg\" alt=\"Open In Colab\"/></a>"
      ]
    },
    {
      "cell_type": "code",
      "execution_count": null,
      "metadata": {
        "id": "qDg7ZiADNoZs"
      },
      "outputs": [],
      "source": [
        "# There are n kids with candies. You are given an integer array candies, where each candies[i] represents the number of candies the ith kid has, and an integer extraCandies, denoting the number of extra candies that you have.\n",
        "\n",
        "#Return a boolean array result of length n, where result[i] is true if, after giving the ith kid all the extraCandies, they will have the greatest number of candies among all the kids, or false otherwise.\n",
        "\n",
        "#Note that multiple kids can have the greatest number of candies.\n",
        "#Example 1:\n",
        "\n",
        "#Input: candies = [2,3,5,1,3], extraCandies = 3\n",
        "#Output: [true,true,true,false,true]\n",
        "#Explanation: If you give all extraCandies to:\n",
        "#- Kid 1, they will have 2 + 3 = 5 candies, which is the greatest among the kids.\n",
        "#- Kid 2, they will have 3 + 3 = 6 candies, which is the greatest among the kids.\n",
        "#- Kid 3, they will have 5 + 3 = 8 candies, which is the greatest among the kids.\n",
        "#- Kid 4, they will have 1 + 3 = 4 candies, which is not the greatest among the kids.\n",
        "#- Kid 5, they will have 3 + 3 = 6 candies, which is the greatest among the kids.\n",
        "#Example 2:\n",
        "\n",
        "#Input: candies = [4,2,1,1,2], extraCandies = 1\n",
        "#Output: [true,false,false,false,false]\n",
        "#Explanation: There is only 1 extra candy.\n",
        "#Kid 1 will always have the greatest number of candies, even if a different kid is given the extra candy.\n",
        "#Example 3:\n",
        "\n",
        "#Input: candies = [12,1,12], extraCandies = 10\n",
        "#Output: [true,false,true]\n",
        "\n",
        "#Constraints:\n",
        "#n == candies.length\n",
        "#2 <= n <= 100\n",
        "#1 <= candies[i] <= 100\n",
        "#1 <= extraCandies <= 50"
      ]
    },
    {
      "cell_type": "code",
      "source": [
        "# https://leetcode.com/problems/kids-with-the-greatest-number-of-candies/"
      ],
      "metadata": {
        "id": "ZoQ8VffnOtB_"
      },
      "execution_count": null,
      "outputs": []
    },
    {
      "cell_type": "code",
      "source": [
        "def kidsWithCandies(candies, extraCandies):\n",
        "    # Find the maximum number of candies any kid currently has\n",
        "    max_candies = max(candies)\n",
        "    # Calculate the result list\n",
        "    result = [(candy + extraCandies) >= max_candies for candy in candies]\n",
        "    return result\n",
        "\n",
        "# Example usage:\n",
        "candies1 = [2, 3, 5, 1, 3]\n",
        "extraCandies1 = 3\n",
        "print(kidsWithCandies(candies1, extraCandies1))\n",
        "\n",
        "candies2 = [4, 2, 1, 1, 2]\n",
        "extraCandies2 = 1\n",
        "print(kidsWithCandies(candies2, extraCandies2))\n",
        "candies3 = [12, 1, 12]\n",
        "extraCandies3 = 10\n",
        "print(kidsWithCandies(candies3, extraCandies3))"
      ],
      "metadata": {
        "colab": {
          "base_uri": "https://localhost:8080/"
        },
        "id": "HhP1lu0XOKt-",
        "outputId": "058cea0c-7510-4505-bbca-07027c1e1859"
      },
      "execution_count": null,
      "outputs": [
        {
          "output_type": "stream",
          "name": "stdout",
          "text": [
            "[True, True, True, False, True]\n",
            "[True, False, False, False, False]\n",
            "[True, False, True]\n"
          ]
        }
      ]
    },
    {
      "cell_type": "code",
      "source": [],
      "metadata": {
        "id": "lndKHTP3PqDs"
      },
      "execution_count": null,
      "outputs": []
    }
  ]
}