{
  "nbformat": 4,
  "nbformat_minor": 0,
  "metadata": {
    "colab": {
      "provenance": [],
      "authorship_tag": "ABX9TyNWOmS3xt8MfQy6E7R2kMrW",
      "include_colab_link": true
    },
    "kernelspec": {
      "name": "python3",
      "display_name": "Python 3"
    },
    "language_info": {
      "name": "python"
    }
  },
  "cells": [
    {
      "cell_type": "markdown",
      "metadata": {
        "id": "view-in-github",
        "colab_type": "text"
      },
      "source": [
        "<a href=\"https://colab.research.google.com/github/athulya137/LeetCode-75-coding-qs/blob/main/Merge_strings_alternately.ipynb\" target=\"_parent\"><img src=\"https://colab.research.google.com/assets/colab-badge.svg\" alt=\"Open In Colab\"/></a>"
      ]
    },
    {
      "cell_type": "code",
      "execution_count": 1,
      "metadata": {
        "id": "kxnkv2i22EJL"
      },
      "outputs": [],
      "source": [
        "# You are given two strings word1 and word2. Merge the strings by adding letters in alternating order, starting with word1. If a string is longer than the other, append the additional letters onto the end of the merged string.\n",
        "\n",
        "# Return the merged string.\n",
        "\n",
        ""
      ]
    },
    {
      "cell_type": "code",
      "source": [
        "class Solution:\n",
        "  def mergeAlternately(self,word1:str,word2:str)->str:\n",
        "    merged=[]\n",
        "    # Iterate through the length of the longer string\n",
        "    for i in range(max(len(word1),len(word2))):\n",
        "      if i < len(word1):\n",
        "        merged.append(word1[i]) #add char from word1 if available\n",
        "      if i < len(word2):\n",
        "        merged.append(word2[i]) #add char from word2 if available\n",
        "    return ''.join(merged)\n",
        "\n",
        "# example\n",
        "solution=Solution()\n",
        "print(solution.mergeAlternately(\"ab\", \"pqrs\"))"
      ],
      "metadata": {
        "colab": {
          "base_uri": "https://localhost:8080/"
        },
        "id": "QaRkeUHG2TR1",
        "outputId": "bd1dbc89-ed07-4172-a210-aebf75f7fb6b"
      },
      "execution_count": 7,
      "outputs": [
        {
          "output_type": "stream",
          "name": "stdout",
          "text": [
            "apbqrs\n"
          ]
        }
      ]
    },
    {
      "cell_type": "code",
      "source": [],
      "metadata": {
        "id": "0ABz2TS233hU"
      },
      "execution_count": null,
      "outputs": []
    }
  ]
}