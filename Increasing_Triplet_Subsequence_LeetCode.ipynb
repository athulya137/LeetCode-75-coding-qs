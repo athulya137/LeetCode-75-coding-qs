{
  "nbformat": 4,
  "nbformat_minor": 0,
  "metadata": {
    "colab": {
      "provenance": [],
      "authorship_tag": "ABX9TyNP6+T+GEntCNt3CN1GNLTz",
      "include_colab_link": true
    },
    "kernelspec": {
      "name": "python3",
      "display_name": "Python 3"
    },
    "language_info": {
      "name": "python"
    }
  },
  "cells": [
    {
      "cell_type": "markdown",
      "metadata": {
        "id": "view-in-github",
        "colab_type": "text"
      },
      "source": [
        "<a href=\"https://colab.research.google.com/github/athulya137/LeetCode-75-coding-qs/blob/main/Increasing_Triplet_Subsequence_LeetCode.ipynb\" target=\"_parent\"><img src=\"https://colab.research.google.com/assets/colab-badge.svg\" alt=\"Open In Colab\"/></a>"
      ]
    },
    {
      "cell_type": "code",
      "execution_count": 1,
      "metadata": {
        "id": "yUXpHRnp-PL7"
      },
      "outputs": [],
      "source": [
        "# Given an integer array nums, return true if there exists a triple of indices (i, j, k) such that i < j < k and nums[i] < nums[j] < nums[k]. If no such indices exists, return false.\n",
        "# Example 1:\n",
        "# Input: nums = [1,2,3,4,5]\n",
        "# Output: true\n",
        "# Explanation: Any triplet where i < j < k is valid.\n",
        "# Example 2:\n",
        "# Input: nums = [5,4,3,2,1]\n",
        "# Output: false\n",
        "# Explanation: No triplet exists.\n",
        "# Example 3:\n",
        "# Input: nums = [2,1,5,0,4,6]\n",
        "# Output: true\n",
        "# Explanation: The triplet (3, 4, 5) is valid because nums[3] == 0 < nums[4] == 4 < nums[5] == 6.\n",
        "# Constraints:\n",
        "# 1 <= nums.length <= 5 * 105\n",
        "# -231 <= nums[i] <= 231 - 1\n",
        "# Follow up: Could you implement a solution that runs in O(n) time complexity and O(1) space complexity?"
      ]
    },
    {
      "cell_type": "code",
      "source": [
        "from typing import List\n",
        "class Solution:\n",
        "    def increasingTriplet(self, nums: List[int]) -> bool:\n",
        "        # Initialize two variables to track the smallest and second smallest numbers\n",
        "        first = float('inf')\n",
        "        second = float('inf')\n",
        "\n",
        "        for num in nums:\n",
        "            if num <= first:  # Update the smallest number\n",
        "                first = num\n",
        "            elif num <= second:  # Update the second smallest number\n",
        "                second = num\n",
        "            else:\n",
        "                # If a number is greater than both 'first' and 'second', return True\n",
        "                return True\n",
        "\n",
        "        return False  # No such triplet found\n",
        "# Example\n",
        "nums = [1, 2, 3, 4, 5]\n",
        "sol = Solution()\n",
        "print(sol.increasingTriplet(nums))"
      ],
      "metadata": {
        "colab": {
          "base_uri": "https://localhost:8080/"
        },
        "id": "ANgYqWvP-zQT",
        "outputId": "bd54f151-ea64-484c-c196-76e7e6a92d88"
      },
      "execution_count": 3,
      "outputs": [
        {
          "output_type": "stream",
          "name": "stdout",
          "text": [
            "True\n"
          ]
        }
      ]
    },
    {
      "cell_type": "code",
      "source": [
        "nums = [5, 4, 3, 2, 1]\n",
        "print(sol.increasingTriplet(nums))"
      ],
      "metadata": {
        "colab": {
          "base_uri": "https://localhost:8080/"
        },
        "id": "ZN1IIeQX--eK",
        "outputId": "11a98f33-d7d2-4307-9887-ab7462c1af87"
      },
      "execution_count": 4,
      "outputs": [
        {
          "output_type": "stream",
          "name": "stdout",
          "text": [
            "False\n"
          ]
        }
      ]
    },
    {
      "cell_type": "code",
      "source": [],
      "metadata": {
        "id": "_FcSQHqT_J5c"
      },
      "execution_count": null,
      "outputs": []
    }
  ]
}