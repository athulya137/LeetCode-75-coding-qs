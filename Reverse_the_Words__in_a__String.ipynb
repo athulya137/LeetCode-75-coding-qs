{
  "nbformat": 4,
  "nbformat_minor": 0,
  "metadata": {
    "colab": {
      "provenance": [],
      "authorship_tag": "ABX9TyOWa7UN9Ln2LHtFPX0jEnV1",
      "include_colab_link": true
    },
    "kernelspec": {
      "name": "python3",
      "display_name": "Python 3"
    },
    "language_info": {
      "name": "python"
    }
  },
  "cells": [
    {
      "cell_type": "markdown",
      "metadata": {
        "id": "view-in-github",
        "colab_type": "text"
      },
      "source": [
        "<a href=\"https://colab.research.google.com/github/athulya137/LeetCode-75-coding-qs/blob/main/Reverse_the_Words__in_a__String.ipynb\" target=\"_parent\"><img src=\"https://colab.research.google.com/assets/colab-badge.svg\" alt=\"Open In Colab\"/></a>"
      ]
    },
    {
      "cell_type": "code",
      "execution_count": 1,
      "metadata": {
        "id": "116NJxboxPBt"
      },
      "outputs": [],
      "source": [
        "#Given an input string s, reverse the order of the words.\n",
        "#A word is defined as a sequence of non-space characters. The words in s will be separated by at least one space.\n",
        "#Return a string of the words in reverse order concatenated by a single space.\n",
        "#Note that s may contain leading or trailing spaces or multiple spaces between two words. The returned string should only have a single space separating the words. Do not include any extra spaces.\n",
        "\n",
        "#Example 1:\n",
        "#Input: s = \"the sky is blue\"\n",
        "#Output: \"blue is sky the\"\n",
        "#Example 2:\n",
        "#Input: s = \"  hello world  \"\n",
        "#Output: \"world hello\"\n",
        "#Explanation: Your reversed string should not contain leading or trailing spaces.\n",
        "#Example 3:\n",
        "#Input: s = \"a good   example\"\n",
        "#Output: \"example good a\"\n",
        "#Explanation: You need to reduce multiple spaces between two words to a single space in the reversed string.\n",
        " #Constraints:\n",
        "#1 <= s.length <= 104\n",
        "#s contains English letters (upper-case and lower-case), digits, and spaces ' '.\n",
        "#There is at least one word in s."
      ]
    },
    {
      "cell_type": "code",
      "source": [
        "class Solution:\n",
        "    def reverseWords(self, s: str) -> str:\n",
        "        # Split the string into words, ignoring extra spaces\n",
        "        words = s.split()\n",
        "        # Reverse the list of words\n",
        "        reversed_words = words[::-1]\n",
        "        # Join the words with a single space\n",
        "        return \" \".join(reversed_words)\n",
        "\n",
        "# Example\n",
        "solution = Solution()\n",
        "print(solution.reverseWords(\"the sky is blue\"))\n",
        "print(solution.reverseWords(\"  hello world  \"))\n",
        "print(solution.reverseWords(\"a good   example\"))\n"
      ],
      "metadata": {
        "colab": {
          "base_uri": "https://localhost:8080/"
        },
        "id": "Ju_V8ZF7xpUe",
        "outputId": "69212963-e69a-46d6-a9eb-d6e40a2d8c07"
      },
      "execution_count": 2,
      "outputs": [
        {
          "output_type": "stream",
          "name": "stdout",
          "text": [
            "blue is sky the\n",
            "world hello\n",
            "example good a\n"
          ]
        }
      ]
    },
    {
      "cell_type": "code",
      "source": [],
      "metadata": {
        "id": "JXG7HM2YycMm"
      },
      "execution_count": null,
      "outputs": []
    }
  ]
}