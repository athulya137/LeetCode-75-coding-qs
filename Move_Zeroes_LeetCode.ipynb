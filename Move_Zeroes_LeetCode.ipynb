{
  "nbformat": 4,
  "nbformat_minor": 0,
  "metadata": {
    "colab": {
      "provenance": [],
      "authorship_tag": "ABX9TyPa2O0l0mpHBVReeXyXFx2f",
      "include_colab_link": true
    },
    "kernelspec": {
      "name": "python3",
      "display_name": "Python 3"
    },
    "language_info": {
      "name": "python"
    }
  },
  "cells": [
    {
      "cell_type": "markdown",
      "metadata": {
        "id": "view-in-github",
        "colab_type": "text"
      },
      "source": [
        "<a href=\"https://colab.research.google.com/github/athulya137/LeetCode-75-coding-qs/blob/main/Move_Zeroes_LeetCode.ipynb\" target=\"_parent\"><img src=\"https://colab.research.google.com/assets/colab-badge.svg\" alt=\"Open In Colab\"/></a>"
      ]
    },
    {
      "cell_type": "code",
      "execution_count": 1,
      "metadata": {
        "id": "YWQpomNyrJ7U"
      },
      "outputs": [],
      "source": [
        "# Given an integer array nums, move all 0's to the end of it while maintaining the relative order of the non-zero elements.\n",
        "# Note that you must do this in-place without making a copy of the array.\n",
        "\n",
        "# Example 1:\n",
        "# Input: nums = [0,1,0,3,12]\n",
        "# Output: [1,3,12,0,0]\n",
        "\n",
        "# Example 2:\n",
        "# Input: nums = [0]\n",
        "# Output: [0]\n",
        "\n",
        "# Constraints:\n",
        "# 1 <= nums.length <= 104\n",
        "# -231 <= nums[i] <= 231 - 1\n",
        "\n",
        "# Follow up: Could you minimize the total number of operations done?."
      ]
    },
    {
      "cell_type": "code",
      "source": [
        "class Solution(object):\n",
        "    def moveZeroes(self, nums):\n",
        "      non_zero_index=0\n",
        "      for i in range(len(nums)):\n",
        "        if nums[i] != 0:\n",
        "          nums[non_zero_index]=nums[i]\n",
        "          non_zero_index +=1\n",
        "      for i in range(non_zero_index,len(nums)):\n",
        "        nums[i]=0\n",
        "# example\n",
        "nums = [0, 1, 0, 3, 12]\n",
        "solution = Solution()\n",
        "solution.moveZeroes(nums)\n",
        "print(nums)\n"
      ],
      "metadata": {
        "colab": {
          "base_uri": "https://localhost:8080/"
        },
        "id": "5vayWvr-rlGq",
        "outputId": "8581d83f-898f-4a70-ffe3-e74a0348a1f6"
      },
      "execution_count": 8,
      "outputs": [
        {
          "output_type": "stream",
          "name": "stdout",
          "text": [
            "[1, 3, 12, 0, 0]\n"
          ]
        }
      ]
    },
    {
      "cell_type": "code",
      "source": [
        "nums = [0]\n",
        "solution = Solution()\n",
        "solution.moveZeroes(nums)\n",
        "print(nums)"
      ],
      "metadata": {
        "colab": {
          "base_uri": "https://localhost:8080/"
        },
        "id": "bt_PQoSBsSGN",
        "outputId": "11e6f193-2461-4dad-c7e0-4b66d7f50aba"
      },
      "execution_count": 9,
      "outputs": [
        {
          "output_type": "stream",
          "name": "stdout",
          "text": [
            "[0]\n"
          ]
        }
      ]
    },
    {
      "cell_type": "code",
      "source": [],
      "metadata": {
        "id": "6_77sFQstApr"
      },
      "execution_count": null,
      "outputs": []
    }
  ]
}