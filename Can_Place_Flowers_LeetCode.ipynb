{
  "nbformat": 4,
  "nbformat_minor": 0,
  "metadata": {
    "colab": {
      "provenance": [],
      "authorship_tag": "ABX9TyOLHAxNEQRtnU0SNWpivNmV",
      "include_colab_link": true
    },
    "kernelspec": {
      "name": "python3",
      "display_name": "Python 3"
    },
    "language_info": {
      "name": "python"
    }
  },
  "cells": [
    {
      "cell_type": "markdown",
      "metadata": {
        "id": "view-in-github",
        "colab_type": "text"
      },
      "source": [
        "<a href=\"https://colab.research.google.com/github/athulya137/LeetCode-75-coding-qs/blob/main/Can_Place_Flowers_LeetCode.ipynb\" target=\"_parent\"><img src=\"https://colab.research.google.com/assets/colab-badge.svg\" alt=\"Open In Colab\"/></a>"
      ]
    },
    {
      "cell_type": "code",
      "execution_count": null,
      "metadata": {
        "id": "rFP2UrvxT78Q"
      },
      "outputs": [],
      "source": [
        "#You have a long flowerbed in which some of the plots are planted, and some are not. However, flowers cannot be planted in adjacent plots.\n",
        "#Given an integer array flowerbed containing 0's and 1's, where 0 means empty and 1 means not empty, and an integer n, return true if n new flowers can be planted in the flowerbed without violating the no-adjacent-flowers rule and false otherwise.\n",
        "#Example 1:\n",
        "#Input: flowerbed = [1,0,0,0,1], n = 1\n",
        "#Output: true\n",
        "#Example 2:\n",
        "#Input: flowerbed = [1,0,0,0,1], n = 2\n",
        "#Output: false\n",
        "#Constraints:\n",
        "#1 <= flowerbed.length <= 2 * 104\n",
        "#flowerbed[i] is 0 or 1.\n",
        "#There are no two adjacent flowers in flowerbed.\n",
        "#0 <= n <= flowerbed.length"
      ]
    },
    {
      "cell_type": "code",
      "source": [
        "from typing import List\n",
        "class Solution:\n",
        "    def canPlaceFlowers(self, flowerbed: List[int], n: int) -> bool:\n",
        "        count = 0\n",
        "        length = len(flowerbed)\n",
        "\n",
        "        for i in range(length):\n",
        "            # Check if the current plot is empty and its neighbors are empty or out of bounds\n",
        "            if flowerbed[i] == 0 and (i == 0 or flowerbed[i - 1] == 0) and (i == length - 1 or flowerbed[i + 1] == 0):\n",
        "                flowerbed[i] = 1  # Place a flower here\n",
        "                count += 1\n",
        "                if count >= n:  # If we've placed enough flowers, return True\n",
        "                    return True\n",
        "\n",
        "        return count >= n  # Return whether we've placed enough flowers\n",
        "solution=Solution()\n",
        "# Example\n",
        "flowerbed = [1, 0, 0, 0, 1]\n",
        "n = 1\n",
        "print(Solution().canPlaceFlowers(flowerbed, n))\n"
      ],
      "metadata": {
        "colab": {
          "base_uri": "https://localhost:8080/"
        },
        "id": "S5SfiR1uViGE",
        "outputId": "007c3d7e-2d75-4370-c663-74c77323e2f2"
      },
      "execution_count": null,
      "outputs": [
        {
          "output_type": "stream",
          "name": "stdout",
          "text": [
            "True\n"
          ]
        }
      ]
    },
    {
      "cell_type": "code",
      "source": [],
      "metadata": {
        "id": "H8k95qBZYHsD"
      },
      "execution_count": null,
      "outputs": []
    }
  ]
}